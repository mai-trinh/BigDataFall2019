{
 "cells": [
  {
   "cell_type": "code",
   "execution_count": 1,
   "metadata": {},
   "outputs": [],
   "source": [
    "import requests as rq\n",
    "import json\n",
    "import oauth2\n",
    "import base64"
   ]
  },
  {
   "cell_type": "code",
   "execution_count": 2,
   "metadata": {},
   "outputs": [],
   "source": [
    "# Variables that contain user credentials to access Twitter API  \n",
    "# KEEP SECRET\n",
    "consumer_key = \"ENTER YOUR INFO HERE\"\n",
    "consumer_secret = \"ENTER YOUR INFO HERE\"\n",
    "access_token = \"ENTER YOUR INFO HERE\"\n",
    "access_secret = \"ENTER YOUR INFO HERE\""
   ]
  },
  {
   "cell_type": "code",
   "execution_count": 3,
   "metadata": {},
   "outputs": [],
   "source": [
    "key_secret = '{}:{}'.format(consumer_key, consumer_secret).encode('ascii')\n",
    "b64_encoded_key = base64.b64encode(key_secret)\n",
    "b64_encoded_key = b64_encoded_key.decode('ascii')\n",
    "\n",
    "# Code from http://benalexkeen.com/interacting-with-the-twitter-api-using-python/"
   ]
  },
  {
   "cell_type": "code",
   "execution_count": 4,
   "metadata": {},
   "outputs": [],
   "source": [
    "base_url = 'https://api.twitter.com/'\n",
    "auth_url = '{}oauth2/token'.format(base_url)\n",
    "\n",
    "auth_headers = {\n",
    "    'Authorization': 'Basic {}'.format(b64_encoded_key),\n",
    "    'Content-Type': 'application/x-www-form-urlencoded;charset=UTF-8'\n",
    "}\n",
    "\n",
    "auth_data = {\n",
    "    'grant_type': 'client_credentials'\n",
    "}\n",
    "\n",
    "auth_resp = rq.post(auth_url, headers=auth_headers, data=auth_data)\n",
    "access_token = auth_resp.json()['access_token']"
   ]
  },
  {
   "cell_type": "code",
   "execution_count": null,
   "metadata": {},
   "outputs": [],
   "source": [
    "# Following code from https://developer.twitter.com/en/docs/tweets/search/guides/integrating-premium.html"
   ]
  },
  {
   "cell_type": "code",
   "execution_count": 6,
   "metadata": {},
   "outputs": [
    {
     "name": "stdout",
     "output_type": "stream",
     "text": [
      "{\n",
      "  \"error\": {\n",
      "    \"message\": \"Request exceeds account\\u2019s current package request limits. Please upgrade your package and retry or contact Twitter about enterprise access.\",\n",
      "    \"sent\": \"2019-05-01T08:28:46+00:00\",\n",
      "    \"transactionId\": \"007a858000c0e51b\"\n",
      "  }\n",
      "}\n"
     ]
    }
   ],
   "source": [
    "# January 2012\n",
    "endpoint = \"https://api.twitter.com/1.1/tweets/search/fullarchive/traveldev.json\" \n",
    "headers = {'Authorization': 'Bearer {}'.format(access_token)}\n",
    "data_jan2012 = '{\"query\":\"(travel OR ttot OR rtw OR traveltuesday OR traveling OR wanderlust OR vacation OR travelpics OR tourist) has:images lang:en\", \"fromDate\": \"201201010000\", \"toDate\": \"201201312359\"}'\n",
    "\n",
    "response_jan2012 = rq.post(endpoint,data=data_jan2012,headers=headers).json()"
   ]
  },
  {
   "cell_type": "code",
   "execution_count": 7,
   "metadata": {},
   "outputs": [
    {
     "name": "stdout",
     "output_type": "stream",
     "text": [
      "{\n",
      "  \"error\": {\n",
      "    \"message\": \"Request exceeds account\\u2019s current package request limits. Please upgrade your package and retry or contact Twitter about enterprise access.\",\n",
      "    \"sent\": \"2019-05-01T08:29:30+00:00\",\n",
      "    \"transactionId\": \"00266a1800ab1261\"\n",
      "  }\n",
      "}\n"
     ]
    }
   ],
   "source": [
    "# February 2012 (Leap Year)\n",
    "endpoint = \"https://api.twitter.com/1.1/tweets/search/fullarchive/traveldev.json\" \n",
    "headers = {'Authorization': 'Bearer {}'.format(access_token)}\n",
    "data_feb2012 = '{\"query\":\"(travel OR ttot OR rtw OR traveltuesday OR traveling OR wanderlust OR vacation OR travelpics OR tourist) has:images lang:en\", \"fromDate\": \"201202010000\", \"toDate\": \"201202292359\"}'\n",
    "\n",
    "response_feb2012 = rq.post(endpoint,data=data_feb2012,headers=headers).json()"
   ]
  },
  {
   "cell_type": "code",
   "execution_count": 28,
   "metadata": {},
   "outputs": [
    {
     "name": "stdout",
     "output_type": "stream",
     "text": [
      "{\n",
      "  \"error\": {\n",
      "    \"message\": \"Request exceeds account\\u2019s current package request limits. Please upgrade your package and retry or contact Twitter about enterprise access.\",\n",
      "    \"sent\": \"2019-04-30T13:02:30+00:00\",\n",
      "    \"transactionId\": \"0048ff6700c33ac8\"\n",
      "  }\n",
      "}\n"
     ]
    }
   ],
   "source": [
    "# March 2012\n",
    "endpoint = \"https://api.twitter.com/1.1/tweets/search/fullarchive/traveldev.json\" \n",
    "headers = {'Authorization': 'Bearer {}'.format(access_token)}\n",
    "data_mar2012 = '{\"query\":\"(travel OR ttot OR rtw OR traveltuesday OR traveling OR wanderlust OR vacation OR travelpics OR tourist) has:images lang:en\", \"fromDate\": \"201203010000\", \"toDate\": \"201203312359\"}'\n",
    "\n",
    "response_mar2012 = rq.post(endpoint,data=data_mar2012,headers=headers).json()"
   ]
  },
  {
   "cell_type": "code",
   "execution_count": 29,
   "metadata": {},
   "outputs": [],
   "source": [
    "# April 2012\n",
    "endpoint = \"https://api.twitter.com/1.1/tweets/search/fullarchive/traveldev.json\" \n",
    "headers = {'Authorization': 'Bearer {}'.format(access_token)}\n",
    "data_apr2012 = '{\"query\":\"(travel OR ttot OR rtw OR traveltuesday OR traveling OR wanderlust OR vacation OR travelpics OR tourist) has:images lang:en\", \"fromDate\": \"201204010000\", \"toDate\": \"201204302359\"}'\n",
    "\n",
    "response_apr2012 = rq.post(endpoint,data=data_apr2012,headers=headers).json()"
   ]
  },
  {
   "cell_type": "code",
   "execution_count": 30,
   "metadata": {},
   "outputs": [],
   "source": [
    "# May 2012\n",
    "endpoint = \"https://api.twitter.com/1.1/tweets/search/fullarchive/traveldev.json\" \n",
    "headers = {'Authorization': 'Bearer {}'.format(access_token)}\n",
    "data_may2012 = '{\"query\":\"(travel OR ttot OR rtw OR traveltuesday OR traveling OR wanderlust OR vacation OR travelpics OR tourist) has:images lang:en\", \"fromDate\": \"201205010000\", \"toDate\": \"201205312359\"}'\n",
    "\n",
    "response_may2012 = rq.post(endpoint,data=data_may2012,headers=headers).json()"
   ]
  },
  {
   "cell_type": "code",
   "execution_count": 31,
   "metadata": {},
   "outputs": [],
   "source": [
    "# June 2012\n",
    "endpoint = \"https://api.twitter.com/1.1/tweets/search/fullarchive/traveldev.json\" \n",
    "headers = {'Authorization': 'Bearer {}'.format(access_token)}\n",
    "data_jun2012 = '{\"query\":\"(travel OR ttot OR rtw OR traveltuesday OR traveling OR wanderlust OR vacation OR travelpics OR tourist) has:images lang:en\", \"fromDate\": \"201206010000\", \"toDate\": \"201206302359\"}'\n",
    "\n",
    "response_jun2012 = rq.post(endpoint,data=data_jun2012,headers=headers).json()"
   ]
  },
  {
   "cell_type": "code",
   "execution_count": 32,
   "metadata": {},
   "outputs": [],
   "source": [
    "# July 2012\n",
    "endpoint = \"https://api.twitter.com/1.1/tweets/search/fullarchive/traveldev.json\" \n",
    "headers = {'Authorization': 'Bearer {}'.format(access_token)}\n",
    "data_jul2012 = '{\"query\":\"(travel OR ttot OR rtw OR traveltuesday OR traveling OR wanderlust OR vacation OR travelpics OR tourist) has:images lang:en\", \"fromDate\": \"201207010000\", \"toDate\": \"201207312359\"}'\n",
    "\n",
    "response_jul2012 = rq.post(endpoint,data=data_jul2012,headers=headers).json()"
   ]
  },
  {
   "cell_type": "code",
   "execution_count": 33,
   "metadata": {},
   "outputs": [],
   "source": [
    "# August 2012\n",
    "endpoint = \"https://api.twitter.com/1.1/tweets/search/fullarchive/traveldev.json\" \n",
    "headers = {'Authorization': 'Bearer {}'.format(access_token)}\n",
    "data_aug2012 = '{\"query\":\"(travel OR ttot OR rtw OR traveltuesday OR traveling OR wanderlust OR vacation OR travelpics OR tourist) has:images lang:en\", \"fromDate\": \"201208010000\", \"toDate\": \"201208312359\"}'\n",
    "\n",
    "response_aug2012 = rq.post(endpoint,data=data_aug2012,headers=headers).json()"
   ]
  },
  {
   "cell_type": "code",
   "execution_count": 34,
   "metadata": {},
   "outputs": [],
   "source": [
    "# September 2012\n",
    "endpoint = \"https://api.twitter.com/1.1/tweets/search/fullarchive/traveldev.json\" \n",
    "headers = {'Authorization': 'Bearer {}'.format(access_token)}\n",
    "data_sep2012 = '{\"query\":\"(travel OR ttot OR rtw OR traveltuesday OR traveling OR wanderlust OR vacation OR travelpics OR tourist) has:images lang:en\", \"fromDate\": \"201209010000\", \"toDate\": \"201209302359\"}'\n",
    "\n",
    "response_sep2012 = rq.post(endpoint,data=data_sep2012,headers=headers).json()"
   ]
  },
  {
   "cell_type": "code",
   "execution_count": 35,
   "metadata": {},
   "outputs": [],
   "source": [
    "# October 2012\n",
    "endpoint = \"https://api.twitter.com/1.1/tweets/search/fullarchive/traveldev.json\" \n",
    "headers = {'Authorization': 'Bearer {}'.format(access_token)}\n",
    "data_oct2012 = '{\"query\":\"(travel OR ttot OR rtw OR traveltuesday OR traveling OR wanderlust OR vacation OR travelpics OR tourist) has:images lang:en\", \"fromDate\": \"201210010000\", \"toDate\": \"201210312359\"}'\n",
    "\n",
    "response_oct2012 = rq.post(endpoint,data=data_oct2012,headers=headers).json()"
   ]
  },
  {
   "cell_type": "code",
   "execution_count": 36,
   "metadata": {},
   "outputs": [],
   "source": [
    "# November 2012\n",
    "endpoint = \"https://api.twitter.com/1.1/tweets/search/fullarchive/traveldev.json\" \n",
    "headers = {'Authorization': 'Bearer {}'.format(access_token)}\n",
    "data_nov2012 = '{\"query\":\"(travel OR ttot OR rtw OR traveltuesday OR traveling OR wanderlust OR vacation OR travelpics OR tourist) has:images lang:en\", \"fromDate\": \"201211010000\", \"toDate\": \"201211302359\"}'\n",
    "\n",
    "response_nov2012 = rq.post(endpoint,data=data_nov2012,headers=headers).json()"
   ]
  },
  {
   "cell_type": "code",
   "execution_count": 37,
   "metadata": {},
   "outputs": [],
   "source": [
    "# December 2012\n",
    "endpoint = \"https://api.twitter.com/1.1/tweets/search/fullarchive/traveldev.json\" \n",
    "headers = {'Authorization': 'Bearer {}'.format(access_token)}\n",
    "data_dec2012 = '{\"query\":\"(travel OR ttot OR rtw OR traveltuesday OR traveling OR wanderlust OR vacation OR travelpics OR tourist) has:images lang:en\", \"fromDate\": \"201212010000\", \"toDate\": \"201212312359\"}'\n",
    "\n",
    "response_dec2012 = rq.post(endpoint,data=data_dec2012,headers=headers).json()"
   ]
  },
  {
   "cell_type": "code",
   "execution_count": 38,
   "metadata": {},
   "outputs": [],
   "source": [
    "# January 2014\n",
    "endpoint = \"https://api.twitter.com/1.1/tweets/search/fullarchive/traveldev.json\" \n",
    "headers = {'Authorization': 'Bearer {}'.format(access_token)}\n",
    "data_jan2014 = '{\"query\":\"(travel OR ttot OR rtw OR traveltuesday OR traveling OR wanderlust OR vacation OR travelpics OR tourist) has:images lang:en\", \"fromDate\": \"201401010000\", \"toDate\": \"201401312359\"}'\n",
    "\n",
    "response_jan2014 = rq.post(endpoint,data=data_jan2014,headers=headers).json()"
   ]
  },
  {
   "cell_type": "code",
   "execution_count": 39,
   "metadata": {},
   "outputs": [],
   "source": [
    "# January 2016\n",
    "endpoint = \"https://api.twitter.com/1.1/tweets/search/fullarchive/traveldev.json\" \n",
    "headers = {'Authorization': 'Bearer {}'.format(access_token)}\n",
    "data_jan2016 = '{\"query\":\"(travel OR ttot OR rtw OR traveltuesday OR traveling OR wanderlust OR vacation OR travelpics OR tourist) has:images lang:en\", \"fromDate\": \"201601010000\", \"toDate\": \"201601312359\"}'\n",
    "\n",
    "response_jan2016 = rq.post(endpoint,data=data_jan2016,headers=headers).json()"
   ]
  },
  {
   "cell_type": "code",
   "execution_count": 40,
   "metadata": {},
   "outputs": [],
   "source": [
    "# January 2018\n",
    "endpoint = \"https://api.twitter.com/1.1/tweets/search/fullarchive/traveldev.json\" \n",
    "headers = {'Authorization': 'Bearer {}'.format(access_token)}\n",
    "data_jan2018 = '{\"query\":\"(travel OR ttot OR rtw OR traveltuesday OR traveling OR wanderlust OR vacation OR travelpics OR tourist) has:images lang:en\", \"fromDate\": \"201801010000\", \"toDate\": \"201801312359\"}'\n",
    "\n",
    "response_jan2018 = rq.post(endpoint,data=data_jan2018,headers=headers).json()"
   ]
  },
  {
   "cell_type": "code",
   "execution_count": 41,
   "metadata": {},
   "outputs": [
    {
     "name": "stdout",
     "output_type": "stream",
     "text": [
      "Ran\n"
     ]
    }
   ],
   "source": [
    "# February 2014\n",
    "endpoint = \"https://api.twitter.com/1.1/tweets/search/fullarchive/traveldev.json\" \n",
    "headers = {'Authorization': 'Bearer {}'.format(access_token)}\n",
    "data_feb2014 = '{\"query\":\"(travel OR ttot OR rtw OR traveltuesday OR traveling OR wanderlust OR vacation OR travelpics OR tourist) has:images lang:en\", \"fromDate\": \"201402010000\", \"toDate\": \"201402282359\"}'\n",
    "\n",
    "response_feb2014 = rq.post(endpoint,data=data_feb2014,headers=headers).json()"
   ]
  },
  {
   "cell_type": "code",
   "execution_count": 42,
   "metadata": {},
   "outputs": [
    {
     "name": "stdout",
     "output_type": "stream",
     "text": [
      "Ran\n"
     ]
    }
   ],
   "source": [
    "# February 2016 (Leap Year)\n",
    "endpoint = \"https://api.twitter.com/1.1/tweets/search/fullarchive/traveldev.json\" \n",
    "headers = {'Authorization': 'Bearer {}'.format(access_token)}\n",
    "data_feb2016 = '{\"query\":\"(travel OR ttot OR rtw OR traveltuesday OR traveling OR wanderlust OR vacation OR travelpics OR tourist) has:images lang:en\", \"fromDate\": \"201602010000\", \"toDate\": \"201602292359\"}'\n",
    "\n",
    "response_feb2016 = rq.post(endpoint,data=data_feb2016,headers=headers).json()"
   ]
  },
  {
   "cell_type": "code",
   "execution_count": 43,
   "metadata": {},
   "outputs": [
    {
     "name": "stdout",
     "output_type": "stream",
     "text": [
      "Ran\n"
     ]
    }
   ],
   "source": [
    "# February 2018\n",
    "endpoint = \"https://api.twitter.com/1.1/tweets/search/fullarchive/traveldev.json\" \n",
    "headers = {'Authorization': 'Bearer {}'.format(access_token)}\n",
    "data_feb2018 = '{\"query\":\"(travel OR ttot OR rtw OR traveltuesday OR traveling OR wanderlust OR vacation OR travelpics OR tourist) has:images lang:en\", \"fromDate\": \"201802010000\", \"toDate\": \"201802282359\"}'\n",
    "\n",
    "response_feb2018 = rq.post(endpoint,data=data_feb2018,headers=headers).json()"
   ]
  },
  {
   "cell_type": "code",
   "execution_count": 44,
   "metadata": {},
   "outputs": [
    {
     "name": "stdout",
     "output_type": "stream",
     "text": [
      "Ran\n"
     ]
    }
   ],
   "source": [
    "# March 2014\n",
    "endpoint = \"https://api.twitter.com/1.1/tweets/search/fullarchive/traveldev.json\" \n",
    "headers = {'Authorization': 'Bearer {}'.format(access_token)}\n",
    "data_mar2014 = '{\"query\":\"(travel OR ttot OR rtw OR traveltuesday OR traveling OR wanderlust OR vacation OR travelpics OR tourist) has:images lang:en\", \"fromDate\": \"201403010000\", \"toDate\": \"201403312359\"}'\n",
    "\n",
    "response_mar2014 = rq.post(endpoint,data=data_mar2014,headers=headers).json()"
   ]
  },
  {
   "cell_type": "code",
   "execution_count": 45,
   "metadata": {},
   "outputs": [
    {
     "name": "stdout",
     "output_type": "stream",
     "text": [
      "Ran\n"
     ]
    }
   ],
   "source": [
    "# March 2016\n",
    "endpoint = \"https://api.twitter.com/1.1/tweets/search/fullarchive/traveldev.json\" \n",
    "headers = {'Authorization': 'Bearer {}'.format(access_token)}\n",
    "data_mar2016 = '{\"query\":\"(travel OR ttot OR rtw OR traveltuesday OR traveling OR wanderlust OR vacation OR travelpics OR tourist) has:images lang:en\", \"fromDate\": \"201603010000\", \"toDate\": \"201603312359\"}'\n",
    "\n",
    "response_mar2016 = rq.post(endpoint,data=data_mar2016,headers=headers).json()"
   ]
  },
  {
   "cell_type": "code",
   "execution_count": 46,
   "metadata": {},
   "outputs": [
    {
     "name": "stdout",
     "output_type": "stream",
     "text": [
      "Ran\n"
     ]
    }
   ],
   "source": [
    "# March 2018\n",
    "endpoint = \"https://api.twitter.com/1.1/tweets/search/fullarchive/traveldev.json\" \n",
    "headers = {'Authorization': 'Bearer {}'.format(access_token)}\n",
    "data_mar2018 = '{\"query\":\"(travel OR ttot OR rtw OR traveltuesday OR traveling OR wanderlust OR vacation OR travelpics OR tourist) has:images lang:en\", \"fromDate\": \"201803010000\", \"toDate\": \"201803312359\"}'\n",
    "\n",
    "response_mar2018 = rq.post(endpoint,data=data_mar2018,headers=headers).json()"
   ]
  },
  {
   "cell_type": "code",
   "execution_count": 47,
   "metadata": {},
   "outputs": [
    {
     "name": "stdout",
     "output_type": "stream",
     "text": [
      "Ran\n"
     ]
    }
   ],
   "source": [
    "# April 2014\n",
    "endpoint = \"https://api.twitter.com/1.1/tweets/search/fullarchive/traveldev.json\" \n",
    "headers = {'Authorization': 'Bearer {}'.format(access_token)}\n",
    "data_apr2014 = '{\"query\":\"(travel OR ttot OR rtw OR traveltuesday OR traveling OR wanderlust OR vacation OR travelpics OR tourist) has:images lang:en\", \"fromDate\": \"201404010000\", \"toDate\": \"201404302359\"}'\n",
    "\n",
    "response_apr2014 = rq.post(endpoint,data=data_apr2014,headers=headers).json()"
   ]
  },
  {
   "cell_type": "code",
   "execution_count": 48,
   "metadata": {},
   "outputs": [
    {
     "name": "stdout",
     "output_type": "stream",
     "text": [
      "Ran\n"
     ]
    }
   ],
   "source": [
    "# April 2016\n",
    "endpoint = \"https://api.twitter.com/1.1/tweets/search/fullarchive/traveldev.json\" \n",
    "headers = {'Authorization': 'Bearer {}'.format(access_token)}\n",
    "data_apr2016 = '{\"query\":\"(travel OR ttot OR rtw OR traveltuesday OR traveling OR wanderlust OR vacation OR travelpics OR tourist) has:images lang:en\", \"fromDate\": \"201604010000\", \"toDate\": \"201604302359\"}'\n",
    "\n",
    "response_apr2016 = rq.post(endpoint,data=data_apr2016,headers=headers).json()"
   ]
  },
  {
   "cell_type": "code",
   "execution_count": 49,
   "metadata": {},
   "outputs": [
    {
     "name": "stdout",
     "output_type": "stream",
     "text": [
      "Ran\n"
     ]
    }
   ],
   "source": [
    "# April 2018\n",
    "endpoint = \"https://api.twitter.com/1.1/tweets/search/fullarchive/traveldev.json\" \n",
    "headers = {'Authorization': 'Bearer {}'.format(access_token)}\n",
    "data_apr2018 = '{\"query\":\"(travel OR ttot OR rtw OR traveltuesday OR traveling OR wanderlust OR vacation OR travelpics OR tourist) has:images lang:en\", \"fromDate\": \"201804010000\", \"toDate\": \"201804302359\"}'\n",
    "\n",
    "response_apr2018 = rq.post(endpoint,data=data_apr2018,headers=headers).json()"
   ]
  },
  {
   "cell_type": "code",
   "execution_count": 50,
   "metadata": {},
   "outputs": [
    {
     "name": "stdout",
     "output_type": "stream",
     "text": [
      "Ran\n"
     ]
    }
   ],
   "source": [
    "# May 2014\n",
    "endpoint = \"https://api.twitter.com/1.1/tweets/search/fullarchive/traveldev.json\" \n",
    "headers = {'Authorization': 'Bearer {}'.format(access_token)}\n",
    "data_may2014 = '{\"query\":\"(travel OR ttot OR rtw OR traveltuesday OR traveling OR wanderlust OR vacation OR travelpics OR tourist) has:images lang:en\", \"fromDate\": \"201405010000\", \"toDate\": \"201405312359\"}'\n",
    "\n",
    "response_may2014 = rq.post(endpoint,data=data_may2014,headers=headers).json()"
   ]
  },
  {
   "cell_type": "code",
   "execution_count": 51,
   "metadata": {},
   "outputs": [
    {
     "name": "stdout",
     "output_type": "stream",
     "text": [
      "Ran\n"
     ]
    }
   ],
   "source": [
    "# May 2016\n",
    "endpoint = \"https://api.twitter.com/1.1/tweets/search/fullarchive/traveldev.json\" \n",
    "headers = {'Authorization': 'Bearer {}'.format(access_token)}\n",
    "data_may2016 = '{\"query\":\"(travel OR ttot OR rtw OR traveltuesday OR traveling OR wanderlust OR vacation OR travelpics OR tourist) has:images lang:en\", \"fromDate\": \"201605010000\", \"toDate\": \"201605312359\"}'\n",
    "\n",
    "response_may2016 = rq.post(endpoint,data=data_may2016,headers=headers).json()"
   ]
  },
  {
   "cell_type": "code",
   "execution_count": 52,
   "metadata": {},
   "outputs": [
    {
     "name": "stdout",
     "output_type": "stream",
     "text": [
      "Ran\n"
     ]
    }
   ],
   "source": [
    "# May 2018\n",
    "endpoint = \"https://api.twitter.com/1.1/tweets/search/fullarchive/traveldev.json\" \n",
    "headers = {'Authorization': 'Bearer {}'.format(access_token)}\n",
    "data_may2018 = '{\"query\":\"(travel OR ttot OR rtw OR traveltuesday OR traveling OR wanderlust OR vacation OR travelpics OR tourist) has:images lang:en\", \"fromDate\": \"201805010000\", \"toDate\": \"201805312359\"}'\n",
    "\n",
    "response_may2018 = rq.post(endpoint,data=data_may2018,headers=headers).json()"
   ]
  },
  {
   "cell_type": "code",
   "execution_count": 53,
   "metadata": {},
   "outputs": [
    {
     "name": "stdout",
     "output_type": "stream",
     "text": [
      "Ran\n"
     ]
    }
   ],
   "source": [
    "# June 2014\n",
    "endpoint = \"https://api.twitter.com/1.1/tweets/search/fullarchive/traveldev.json\" \n",
    "headers = {'Authorization': 'Bearer {}'.format(access_token)}\n",
    "data_jun2014 = '{\"query\":\"(travel OR ttot OR rtw OR traveltuesday OR traveling OR wanderlust OR vacation OR travelpics OR tourist) has:images lang:en\", \"fromDate\": \"201406010000\", \"toDate\": \"201406302359\"}'\n",
    "\n",
    "response_jun2014 = rq.post(endpoint,data=data_jun2014,headers=headers).json()"
   ]
  },
  {
   "cell_type": "code",
   "execution_count": 54,
   "metadata": {},
   "outputs": [
    {
     "name": "stdout",
     "output_type": "stream",
     "text": [
      "Ran\n"
     ]
    }
   ],
   "source": [
    "# June 2016\n",
    "endpoint = \"https://api.twitter.com/1.1/tweets/search/fullarchive/traveldev.json\" \n",
    "headers = {'Authorization': 'Bearer {}'.format(access_token)}\n",
    "data_jun2016 = '{\"query\":\"(travel OR ttot OR rtw OR traveltuesday OR traveling OR wanderlust OR vacation OR travelpics OR tourist) has:images lang:en\", \"fromDate\": \"201606010000\", \"toDate\": \"201606302359\"}'\n",
    "\n",
    "response_jun2016 = rq.post(endpoint,data=data_jun2016,headers=headers).json()"
   ]
  },
  {
   "cell_type": "code",
   "execution_count": 55,
   "metadata": {},
   "outputs": [
    {
     "name": "stdout",
     "output_type": "stream",
     "text": [
      "Ran\n"
     ]
    }
   ],
   "source": [
    "# June 2018\n",
    "endpoint = \"https://api.twitter.com/1.1/tweets/search/fullarchive/traveldev.json\" \n",
    "headers = {'Authorization': 'Bearer {}'.format(access_token)}\n",
    "data_jun2018 = '{\"query\":\"(travel OR ttot OR rtw OR traveltuesday OR traveling OR wanderlust OR vacation OR travelpics OR tourist) has:images lang:en\", \"fromDate\": \"201806010000\", \"toDate\": \"201806302359\"}'\n",
    "\n",
    "response_jun2018 = rq.post(endpoint,data=data_jun2018,headers=headers).json()"
   ]
  },
  {
   "cell_type": "code",
   "execution_count": 56,
   "metadata": {},
   "outputs": [
    {
     "name": "stdout",
     "output_type": "stream",
     "text": [
      "Ran\n"
     ]
    }
   ],
   "source": [
    "# July 2014\n",
    "endpoint = \"https://api.twitter.com/1.1/tweets/search/fullarchive/traveldev.json\" \n",
    "headers = {'Authorization': 'Bearer {}'.format(access_token)}\n",
    "data_jul2014 = '{\"query\":\"(travel OR ttot OR rtw OR traveltuesday OR traveling OR wanderlust OR vacation OR travelpics OR tourist) has:images lang:en\", \"fromDate\": \"201407010000\", \"toDate\": \"201407312359\"}'\n",
    "\n",
    "response_jul2014 = rq.post(endpoint,data=data_jul2014,headers=headers).json()"
   ]
  },
  {
   "cell_type": "code",
   "execution_count": 57,
   "metadata": {},
   "outputs": [
    {
     "name": "stdout",
     "output_type": "stream",
     "text": [
      "Ran\n"
     ]
    }
   ],
   "source": [
    "# July 2016\n",
    "endpoint = \"https://api.twitter.com/1.1/tweets/search/fullarchive/traveldev.json\" \n",
    "headers = {'Authorization': 'Bearer {}'.format(access_token)}\n",
    "data_jul2016 = '{\"query\":\"(travel OR ttot OR rtw OR traveltuesday OR traveling OR wanderlust OR vacation OR travelpics OR tourist) has:images lang:en\", \"fromDate\": \"201607010000\", \"toDate\": \"201607312359\"}'\n",
    "\n",
    "response_jul2016 = rq.post(endpoint,data=data_jul2016,headers=headers).json()"
   ]
  },
  {
   "cell_type": "code",
   "execution_count": 58,
   "metadata": {},
   "outputs": [
    {
     "name": "stdout",
     "output_type": "stream",
     "text": [
      "Ran\n"
     ]
    }
   ],
   "source": [
    "# July 2018\n",
    "endpoint = \"https://api.twitter.com/1.1/tweets/search/fullarchive/traveldev.json\" \n",
    "headers = {'Authorization': 'Bearer {}'.format(access_token)}\n",
    "data_jul2018 = '{\"query\":\"(travel OR ttot OR rtw OR traveltuesday OR traveling OR wanderlust OR vacation OR travelpics OR tourist) has:images lang:en\", \"fromDate\": \"201807010000\", \"toDate\": \"201807312359\"}'\n",
    "\n",
    "response_jul2018 = rq.post(endpoint,data=data_jul2018,headers=headers).json()"
   ]
  },
  {
   "cell_type": "code",
   "execution_count": 59,
   "metadata": {},
   "outputs": [
    {
     "name": "stdout",
     "output_type": "stream",
     "text": [
      "Ran\n"
     ]
    }
   ],
   "source": [
    "# August 2014\n",
    "endpoint = \"https://api.twitter.com/1.1/tweets/search/fullarchive/traveldev.json\" \n",
    "headers = {'Authorization': 'Bearer {}'.format(access_token)}\n",
    "data_aug2014 = '{\"query\":\"(travel OR ttot OR rtw OR traveltuesday OR traveling OR wanderlust OR vacation OR travelpics OR tourist) has:images lang:en\", \"fromDate\": \"201408010000\", \"toDate\": \"201408312359\"}'\n",
    "\n",
    "response_aug2014 = rq.post(endpoint,data=data_aug2014,headers=headers).json()"
   ]
  },
  {
   "cell_type": "code",
   "execution_count": 60,
   "metadata": {},
   "outputs": [
    {
     "name": "stdout",
     "output_type": "stream",
     "text": [
      "Ran\n"
     ]
    }
   ],
   "source": [
    "# August 2016\n",
    "endpoint = \"https://api.twitter.com/1.1/tweets/search/fullarchive/traveldev.json\" \n",
    "headers = {'Authorization': 'Bearer {}'.format(access_token)}\n",
    "data_aug2016 = '{\"query\":\"(travel OR ttot OR rtw OR traveltuesday OR traveling OR wanderlust OR vacation OR travelpics OR tourist) has:images lang:en\", \"fromDate\": \"201608010000\", \"toDate\": \"201608312359\"}'\n",
    "\n",
    "response_aug2016 = rq.post(endpoint,data=data_aug2016,headers=headers).json()"
   ]
  },
  {
   "cell_type": "code",
   "execution_count": 61,
   "metadata": {},
   "outputs": [
    {
     "name": "stdout",
     "output_type": "stream",
     "text": [
      "Ran\n"
     ]
    }
   ],
   "source": [
    "# August 2018\n",
    "endpoint = \"https://api.twitter.com/1.1/tweets/search/fullarchive/traveldev.json\" \n",
    "headers = {'Authorization': 'Bearer {}'.format(access_token)}\n",
    "data_aug2018 = '{\"query\":\"(travel OR ttot OR rtw OR traveltuesday OR traveling OR wanderlust OR vacation OR travelpics OR tourist) has:images lang:en\", \"fromDate\": \"201808010000\", \"toDate\": \"201808312359\"}'\n",
    "\n",
    "response_aug2018 = rq.post(endpoint,data=data_aug2018,headers=headers).json()"
   ]
  },
  {
   "cell_type": "code",
   "execution_count": 62,
   "metadata": {},
   "outputs": [
    {
     "name": "stdout",
     "output_type": "stream",
     "text": [
      "Ran\n"
     ]
    }
   ],
   "source": [
    "# September 2014\n",
    "endpoint = \"https://api.twitter.com/1.1/tweets/search/fullarchive/traveldev.json\" \n",
    "headers = {'Authorization': 'Bearer {}'.format(access_token)}\n",
    "data_sep2014 = '{\"query\":\"(travel OR ttot OR rtw OR traveltuesday OR traveling OR wanderlust OR vacation OR travelpics OR tourist) has:images lang:en\", \"fromDate\": \"201409010000\", \"toDate\": \"201409302359\"}'\n",
    "\n",
    "response_sep2014 = rq.post(endpoint,data=data_sep2014,headers=headers).json()"
   ]
  },
  {
   "cell_type": "code",
   "execution_count": 63,
   "metadata": {},
   "outputs": [
    {
     "name": "stdout",
     "output_type": "stream",
     "text": [
      "Ran\n"
     ]
    }
   ],
   "source": [
    "# September 2016\n",
    "endpoint = \"https://api.twitter.com/1.1/tweets/search/fullarchive/traveldev.json\" \n",
    "headers = {'Authorization': 'Bearer {}'.format(access_token)}\n",
    "data_sep2016 = '{\"query\":\"(travel OR ttot OR rtw OR traveltuesday OR traveling OR wanderlust OR vacation OR travelpics OR tourist) has:images lang:en\", \"fromDate\": \"201609010000\", \"toDate\": \"201609302359\"}'\n",
    "\n",
    "response_sep2016 = rq.post(endpoint,data=data_sep2016,headers=headers).json()"
   ]
  },
  {
   "cell_type": "code",
   "execution_count": 64,
   "metadata": {},
   "outputs": [
    {
     "name": "stdout",
     "output_type": "stream",
     "text": [
      "Ran\n"
     ]
    }
   ],
   "source": [
    "# September 2018\n",
    "endpoint = \"https://api.twitter.com/1.1/tweets/search/fullarchive/traveldev.json\" \n",
    "headers = {'Authorization': 'Bearer {}'.format(access_token)}\n",
    "data_sep2018 = '{\"query\":\"(travel OR ttot OR rtw OR traveltuesday OR traveling OR wanderlust OR vacation OR travelpics OR tourist) has:images lang:en\", \"fromDate\": \"201809010000\", \"toDate\": \"201809302359\"}'\n",
    "\n",
    "response_sep2018 = rq.post(endpoint,data=data_sep2018,headers=headers).json()"
   ]
  },
  {
   "cell_type": "code",
   "execution_count": 65,
   "metadata": {},
   "outputs": [
    {
     "name": "stdout",
     "output_type": "stream",
     "text": [
      "Ran\n"
     ]
    }
   ],
   "source": [
    "# October 2014\n",
    "endpoint = \"https://api.twitter.com/1.1/tweets/search/fullarchive/traveldev.json\" \n",
    "headers = {'Authorization': 'Bearer {}'.format(access_token)}\n",
    "data_oct2014 = '{\"query\":\"(travel OR ttot OR rtw OR traveltuesday OR traveling OR wanderlust OR vacation OR travelpics OR tourist) has:images lang:en\", \"fromDate\": \"201410010000\", \"toDate\": \"201410312359\"}'\n",
    "\n",
    "response_oct2014 = rq.post(endpoint,data=data_oct2014,headers=headers).json()"
   ]
  },
  {
   "cell_type": "code",
   "execution_count": 66,
   "metadata": {},
   "outputs": [
    {
     "name": "stdout",
     "output_type": "stream",
     "text": [
      "Ran\n"
     ]
    }
   ],
   "source": [
    "# October 2016\n",
    "endpoint = \"https://api.twitter.com/1.1/tweets/search/fullarchive/traveldev.json\" \n",
    "headers = {'Authorization': 'Bearer {}'.format(access_token)}\n",
    "data_oct2016 = '{\"query\":\"(travel OR ttot OR rtw OR traveltuesday OR traveling OR wanderlust OR vacation OR travelpics OR tourist) has:images lang:en\", \"fromDate\": \"201610010000\", \"toDate\": \"201610312359\"}'\n",
    "\n",
    "response_oct2016 = rq.post(endpoint,data=data_oct2016,headers=headers).json()"
   ]
  },
  {
   "cell_type": "code",
   "execution_count": 67,
   "metadata": {},
   "outputs": [
    {
     "name": "stdout",
     "output_type": "stream",
     "text": [
      "Ran\n"
     ]
    }
   ],
   "source": [
    "# October 2018\n",
    "endpoint = \"https://api.twitter.com/1.1/tweets/search/fullarchive/traveldev.json\" \n",
    "headers = {'Authorization': 'Bearer {}'.format(access_token)}\n",
    "data_oct2018 = '{\"query\":\"(travel OR ttot OR rtw OR traveltuesday OR traveling OR wanderlust OR vacation OR travelpics OR tourist) has:images lang:en\", \"fromDate\": \"201810010000\", \"toDate\": \"201810312359\"}'\n",
    "\n",
    "response_oct2018 = rq.post(endpoint,data=data_oct2018,headers=headers).json()"
   ]
  },
  {
   "cell_type": "code",
   "execution_count": 68,
   "metadata": {},
   "outputs": [
    {
     "name": "stdout",
     "output_type": "stream",
     "text": [
      "Ran\n"
     ]
    }
   ],
   "source": [
    "# November 2014\n",
    "endpoint = \"https://api.twitter.com/1.1/tweets/search/fullarchive/traveldev.json\" \n",
    "headers = {'Authorization': 'Bearer {}'.format(access_token)}\n",
    "data_nov2014 = '{\"query\":\"(travel OR ttot OR rtw OR traveltuesday OR traveling OR wanderlust OR vacation OR travelpics OR tourist) has:images lang:en\", \"fromDate\": \"201411010000\", \"toDate\": \"201411302359\"}'\n",
    "\n",
    "response_nov2014 = rq.post(endpoint,data=data_nov2014,headers=headers).json()"
   ]
  },
  {
   "cell_type": "code",
   "execution_count": 69,
   "metadata": {},
   "outputs": [
    {
     "name": "stdout",
     "output_type": "stream",
     "text": [
      "Ran\n"
     ]
    }
   ],
   "source": [
    "# November 2016\n",
    "endpoint = \"https://api.twitter.com/1.1/tweets/search/fullarchive/traveldev.json\" \n",
    "headers = {'Authorization': 'Bearer {}'.format(access_token)}\n",
    "data_nov2016 = '{\"query\":\"(travel OR ttot OR rtw OR traveltuesday OR traveling OR wanderlust OR vacation OR travelpics OR tourist) has:images lang:en\", \"fromDate\": \"201611010000\", \"toDate\": \"201611302359\"}'\n",
    "\n",
    "response_nov2016 = rq.post(endpoint,data=data_nov2016,headers=headers).json()"
   ]
  },
  {
   "cell_type": "code",
   "execution_count": 70,
   "metadata": {},
   "outputs": [
    {
     "name": "stdout",
     "output_type": "stream",
     "text": [
      "Ran\n"
     ]
    }
   ],
   "source": [
    "# November 2018\n",
    "endpoint = \"https://api.twitter.com/1.1/tweets/search/fullarchive/traveldev.json\" \n",
    "headers = {'Authorization': 'Bearer {}'.format(access_token)}\n",
    "data_nov2018 = '{\"query\":\"(travel OR ttot OR rtw OR traveltuesday OR traveling OR wanderlust OR vacation OR travelpics OR tourist) has:images lang:en\", \"fromDate\": \"201811010000\", \"toDate\": \"201811302359\"}'\n",
    "\n",
    "response_nov2018 = rq.post(endpoint,data=data_nov2018,headers=headers).json()"
   ]
  },
  {
   "cell_type": "code",
   "execution_count": 71,
   "metadata": {},
   "outputs": [
    {
     "name": "stdout",
     "output_type": "stream",
     "text": [
      "Ran\n"
     ]
    }
   ],
   "source": [
    "# December 2014\n",
    "endpoint = \"https://api.twitter.com/1.1/tweets/search/fullarchive/traveldev.json\" \n",
    "headers = {'Authorization': 'Bearer {}'.format(access_token)}\n",
    "data_dec2014 = '{\"query\":\"(travel OR ttot OR rtw OR traveltuesday OR traveling OR wanderlust OR vacation OR travelpics OR tourist) has:images lang:en\", \"fromDate\": \"201412010000\", \"toDate\": \"201412312359\"}'\n",
    "\n",
    "response_dec2014 = rq.post(endpoint,data=data_dec2014,headers=headers).json()"
   ]
  },
  {
   "cell_type": "code",
   "execution_count": 72,
   "metadata": {},
   "outputs": [
    {
     "name": "stdout",
     "output_type": "stream",
     "text": [
      "Ran\n"
     ]
    }
   ],
   "source": [
    "# December 2016\n",
    "endpoint = \"https://api.twitter.com/1.1/tweets/search/fullarchive/traveldev.json\" \n",
    "headers = {'Authorization': 'Bearer {}'.format(access_token)}\n",
    "data_dec2016 = '{\"query\":\"(travel OR ttot OR rtw OR traveltuesday OR traveling OR wanderlust OR vacation OR travelpics OR tourist) has:images lang:en\", \"fromDate\": \"201612010000\", \"toDate\": \"201612312359\"}'\n",
    "\n",
    "response_dec2016 = rq.post(endpoint,data=data_dec2016,headers=headers).json()"
   ]
  },
  {
   "cell_type": "code",
   "execution_count": 73,
   "metadata": {},
   "outputs": [
    {
     "name": "stdout",
     "output_type": "stream",
     "text": [
      "Ran\n"
     ]
    }
   ],
   "source": [
    "# December 2018\n",
    "endpoint = \"https://api.twitter.com/1.1/tweets/search/fullarchive/traveldev.json\" \n",
    "headers = {'Authorization': 'Bearer {}'.format(access_token)}\n",
    "data_dec2018 = '{\"query\":\"(travel OR ttot OR rtw OR traveltuesday OR traveling OR wanderlust OR vacation OR travelpics OR tourist) has:images lang:en\", \"fromDate\": \"201812010000\", \"toDate\": \"201812312359\"}'\n",
    "\n",
    "response_dec2018 = rq.post(endpoint,data=data_dec2018,headers=headers).json()"
   ]
  }
 ],
 "metadata": {
  "kernelspec": {
   "display_name": "Python 3",
   "language": "python",
   "name": "python3"
  },
  "language_info": {
   "codemirror_mode": {
    "name": "ipython",
    "version": 3
   },
   "file_extension": ".py",
   "mimetype": "text/x-python",
   "name": "python",
   "nbconvert_exporter": "python",
   "pygments_lexer": "ipython3",
   "version": "3.7.1"
  }
 },
 "nbformat": 4,
 "nbformat_minor": 2
}
